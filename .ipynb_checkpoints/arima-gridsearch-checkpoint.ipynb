{
 "cells": [
  {
   "cell_type": "markdown",
   "metadata": {},
   "source": [
    "# Demo of grid-searching ARIMA hyper-parameters (as used in vcap script)"
   ]
  },
  {
   "cell_type": "markdown",
   "metadata": {},
   "source": [
    "Demonstration of how to grid-search ARIMA hyper-parameters. \n",
    "The dataset contains real-world capacity data of some Veeam Backup Repositories. <br><br>Check out the *vcap* Capacity Reporter Script [here](https://github.com/StefanSpecht/vcap) to see the grid-search algorithm in action! <br> A full ARIMA demo can be found [here](https://github.com/StefanSpecht/arima-demo/blob/master/arima-demo.ipynb). <br> <br>\n",
    "Demo is based on the following tutorial: https://machinelearningmastery.com/grid-search-arima-hyperparameters-with-python/"
   ]
  },
  {
   "cell_type": "markdown",
   "metadata": {},
   "source": [
    "First, we load the repository capacity dataset and bring it in shape a little bit"
   ]
  },
  {
   "cell_type": "code",
   "execution_count": 1,
   "metadata": {},
   "outputs": [],
   "source": [
    "%matplotlib inline\n",
    "\n",
    "import pandas as pd\n",
    "from matplotlib import pyplot\n",
    "from statsmodels.tsa.arima_model import ARIMA\n",
    "from sklearn.metrics import mean_squared_error\n",
    "from datetime import datetime, timedelta\n",
    "import warnings\n",
    "\n",
    "df = pd.read_csv('repository_data.csv', header=0, index_col=0, parse_dates=True, dayfirst=True)\n",
    "df['UsedGB'] = df['StorageTotal'] - df['StorageFree']\n",
    "df = df[['Name', 'UsedGB', 'StorageTotal']]\n"
   ]
  },
  {
   "cell_type": "markdown",
   "metadata": {},
   "source": [
    "Then, we filter the dataframe for the repository of interest and extract the time series"
   ]
  },
  {
   "cell_type": "code",
   "execution_count": 3,
   "metadata": {},
   "outputs": [],
   "source": [
    "df = df[df['Name'] == \"WTT_B201_Backup_01\"]\n",
    "series = pd.Series(df['UsedGB'])"
   ]
  },
  {
   "cell_type": "markdown",
   "metadata": {},
   "source": [
    "Some dates migt be missing within the series, so let's re-index series and forward-fill missing values"
   ]
  },
  {
   "cell_type": "code",
   "execution_count": 4,
   "metadata": {},
   "outputs": [],
   "source": [
    "date_range = pd.date_range(series.index[1].date(), series.index[-1].date())\n",
    "series = series.reindex(date_range)\n",
    "series.fillna(method='ffill', inplace=True)"
   ]
  },
  {
   "cell_type": "markdown",
   "metadata": {},
   "source": [
    "Let's visualize the series by plotting it"
   ]
  },
  {
   "cell_type": "code",
   "execution_count": 5,
   "metadata": {},
   "outputs": [
    {
     "data": {
      "image/png": "[encoded data removed]",
      "text/plain": [
       "<Figure size 432x288 with 1 Axes>"
      ]
     },
     "metadata": {},
     "output_type": "display_data"
    }
   ],
   "source": [
    "series.plot()\n",
    "pyplot.show()"
   ]
  },
  {
   "cell_type": "markdown",
   "metadata": {},
   "source": [
    "Define a function to evaluate an ARIMA model"
   ]
  },
  {
   "cell_type": "code",
   "execution_count": 6,
   "metadata": {},
   "outputs": [],
   "source": [
    "def evaluate_arima_model(X, arima_order):\n",
    "    # prepare training dataset\n",
    "    train_size = int(len(X) * 0.66)\n",
    "    train, test = X[0:train_size], X[train_size:]\n",
    "    history = [x for x in train]\n",
    "    # make predictions\n",
    "    predictions = list()\n",
    "    for t in range(len(test)):\n",
    "        model = ARIMA(history, order=arima_order)\n",
    "        model_fit = model.fit(disp=0)\n",
    "        yhat = model_fit.forecast()[0]\n",
    "        predictions.append(yhat)\n",
    "        history.append(test[t])\n",
    "    # calculate out of sample error\n",
    "    error = mean_squared_error(test, predictions)\n",
    "    return error"
   ]
  },
  {
   "cell_type": "markdown",
   "metadata": {},
   "source": [
    "Define the gridsearch function"
   ]
  },
  {
   "cell_type": "code",
   "execution_count": 7,
   "metadata": {},
   "outputs": [],
   "source": [
    "def evaluate_models(dataset, p_values, d_values, q_values):\n",
    "    dataset = dataset.astype('float32')\n",
    "    best_score, best_cfg = float(\"inf\"), None\n",
    "    for p in p_values:\n",
    "        for d in d_values:\n",
    "            for q in q_values:\n",
    "                order = (p,d,q)\n",
    "                try:\n",
    "                    mse = evaluate_arima_model(dataset, order)\n",
    "                    if mse < best_score:\n",
    "                        best_score, best_cfg = mse, order\n",
    "                    print('ARIMA%s MSE=%.3f' % (order,mse))\n",
    "                except:\n",
    "                    continue\n",
    "    print('Best ARIMA%s MSE=%.3f' % (best_cfg, best_score))"
   ]
  },
  {
   "cell_type": "markdown",
   "metadata": {},
   "source": [
    "Define search space and start grid-search"
   ]
  },
  {
   "cell_type": "code",
   "execution_count": 8,
   "metadata": {},
   "outputs": [
    {
     "name": "stdout",
     "output_type": "stream",
     "text": [
      "ARIMA(0, 0, 0) MSE=135.589\n",
      "ARIMA(0, 0, 1) MSE=40.029\n",
      "ARIMA(0, 1, 0) MSE=17.605\n",
      "ARIMA(0, 1, 1) MSE=17.934\n",
      "ARIMA(0, 1, 2) MSE=10.935\n",
      "ARIMA(0, 1, 3) MSE=11.172\n",
      "ARIMA(0, 1, 4) MSE=10.821\n",
      "ARIMA(1, 0, 0) MSE=19.563\n",
      "ARIMA(1, 0, 1) MSE=14.941\n",
      "ARIMA(1, 1, 0) MSE=17.539\n",
      "ARIMA(1, 1, 1) MSE=13.575\n",
      "ARIMA(2, 0, 0) MSE=19.643\n",
      "ARIMA(2, 0, 1) MSE=14.264\n",
      "ARIMA(2, 1, 0) MSE=13.231\n",
      "ARIMA(2, 1, 1) MSE=13.544\n",
      "ARIMA(2, 1, 2) MSE=11.763\n",
      "ARIMA(2, 1, 3) MSE=10.523\n",
      "ARIMA(3, 0, 0) MSE=14.166\n",
      "ARIMA(3, 1, 0) MSE=13.703\n",
      "ARIMA(3, 1, 1) MSE=13.777\n",
      "ARIMA(4, 0, 0) MSE=14.698\n",
      "ARIMA(4, 1, 0) MSE=13.451\n",
      "ARIMA(4, 1, 1) MSE=11.082\n",
      "Best ARIMA(2, 1, 3) MSE=10.523\n"
     ]
    }
   ],
   "source": [
    "# evaluate parameters\n",
    "p_values = range(0,5)\n",
    "d_values = range(0, 2)\n",
    "q_values = range(0, 5)\n",
    "warnings.filterwarnings(\"ignore\")\n",
    "evaluate_models(series.values, p_values, d_values, q_values)"
   ]
  },
  {
   "cell_type": "code",
   "execution_count": null,
   "metadata": {},
   "outputs": [],
   "source": []
  }
 ],
 "metadata": {
  "kernelspec": {
   "display_name": "arima-demo-ujssOmW2",
   "language": "python",
   "name": "arima-demo-ujssomw2"
  },
  "language_info": {
   "codemirror_mode": {
    "name": "ipython",
    "version": 3
   },
   "file_extension": ".py",
   "mimetype": "text/x-python",
   "name": "python",
   "nbconvert_exporter": "python",
   "pygments_lexer": "ipython3",
   "version": "3.6.5"
  }
 },
 "nbformat": 4,
 "nbformat_minor": 2
}
